{
 "cells": [
  {
   "cell_type": "markdown",
   "metadata": {},
   "source": [
    "# Element agnostic system"
   ]
  },
  {
   "cell_type": "markdown",
   "metadata": {},
   "source": [
    "NN model takes (1, 151) input sample and outputs (1, 6) array of 6 h width values. The sphere element structure is predefined beforehand.\n",
    "\n",
    "Input (1, 151) - absorbed power sampled over visible spectrum (from 400 to 700 nm)\n",
    "\n",
    "Output (1, 6) - sphere layer deisgn [h1, h2, h3, h4, h5, h6]\n",
    "\n",
    "NN model consists of 6 layers (5 hidden + 1 ouput)\n",
    "\n",
    "Batch normalization layers, dropout (60%), and LeakyReLU\n",
    "\n",
    "Evaluation metrics: RMSE and MAE\n",
    "\n",
    "K-fold cross validation\n",
    "\n",
    "Adam optimizer with He-Xavier initial weights\n",
    "\n",
    "Learning rate array [0.0001, 0.001, 0.01]\n",
    "\n",
    "Number of neurons per layer array [100, 200, 300, 400, 500, 600]\n",
    "\n",
    "Early stopping criteria is used"
   ]
  },
  {
   "cell_type": "code",
   "execution_count": null,
   "metadata": {},
   "outputs": [],
   "source": [
    "# important libraries import\n",
    "\n",
    "import pandas as pd\n",
    "import numpy as np\n",
    "import torch\n",
    "from torch import nn\n",
    "import sys\n",
    "import statistics as st\n",
    "import copy\n",
    "from torch.utils.data.dataset import random_split\n",
    "from torch.utils.data import Dataset, TensorDataset\n",
    "from torch.utils.data import DataLoader\n",
    "from sklearn.model_selection import train_test_split\n",
    "import matplotlib.pyplot as plt\n",
    "import seaborn as sns\n",
    "from sklearn.preprocessing import StandardScaler"
   ]
  },
  {
   "cell_type": "code",
   "execution_count": null,
   "metadata": {},
   "outputs": [],
   "source": [
    "# check GPU memory state\n",
    "\n",
    "!nvidia-smi"
   ]
  },
  {
   "cell_type": "code",
   "execution_count": null,
   "metadata": {},
   "outputs": [],
   "source": [
    "# CUDA check\n",
    "\n",
    "device = torch.device(\"cuda:0\" if (torch.cuda.is_available()) else \"cpu\")\n",
    "print(device)"
   ]
  },
  {
   "cell_type": "code",
   "execution_count": null,
   "metadata": {},
   "outputs": [],
   "source": [
    "%ls"
   ]
  },
  {
   "cell_type": "code",
   "execution_count": null,
   "metadata": {},
   "outputs": [],
   "source": [
    "# dataset import and training flag selection\n",
    "\n",
    "data_distribution = \"Normal\"\n",
    "#data_distribution = \"Uniform\"\n",
    "\n",
    "data_normalized_flag = True\n",
    "includes_source_distance = True\n",
    "polarization_mode = \"TE\"\n",
    "\n",
    "pd_x_train_val = pd.read_csv('./Data_40k/processed/X_train_TE.csv', header=None);\n",
    "pd_y_train_val = pd.read_csv('./Data_40k/processed/y_train_te.csv', header=None);\n",
    "#pd_ym_train_val = pd.read_csv('./Data/y_train_tm.csv', header=None);\n",
    "\n",
    "# train-val dataset\n",
    "\n",
    "#pd_x_train_val = pd.read_csv('./Data_Normal/X_train.csv', header=None);\n",
    "#pd_ye_train_val = pd.read_csv('./Data_Normal/y_train_te.csv', header=None);\n",
    "#pd_ym_train_val = pd.read_csv('./Data_Normal/y_train_tm.csv', header=None);"
   ]
  },
  {
   "cell_type": "code",
   "execution_count": null,
   "metadata": {},
   "outputs": [],
   "source": [
    "# from pandas to numpy\n",
    "\n",
    "X = np.array(pd_x_train_val)\n",
    "y = np.array(pd_y_train_val)\n",
    "#ym = np.array(pd_ym_train_val)"
   ]
  },
  {
   "cell_type": "code",
   "execution_count": null,
   "metadata": {},
   "outputs": [],
   "source": [
    "# converting to nano-meter scale\n",
    "# here, the sphere width deisgn as [h1, h2, h3, h4, h5, h6]\n",
    "# where h1 is the outer layer and h5 is the core, h6 is the distance from source to sphere surface\n",
    "\n",
    "X = X*(10**9)\n",
    "print(X)"
   ]
  },
  {
   "cell_type": "code",
   "execution_count": 424,
   "metadata": {},
   "outputs": [
    {
     "name": "stdout",
     "output_type": "stream",
     "text": [
      "(8722, 6)\n",
      "(8722, 151)\n"
     ]
    }
   ],
   "source": [
    "# photonic response sampled on the 151 visible wavelength spectrum (between 400 and 700 nm)\n",
    "print(X.shape)\n",
    "print(y.shape)"
   ]
  },
  {
   "cell_type": "code",
   "execution_count": null,
   "metadata": {},
   "outputs": [],
   "source": []
  },
  {
   "cell_type": "code",
   "execution_count": 413,
   "metadata": {},
   "outputs": [],
   "source": [
    "for i in range(len(X)):\n",
    "    if np.isnan(y[i]).any():\n",
    "        y[i] = 0\n",
    "        X[i] = 0"
   ]
  },
  {
   "cell_type": "code",
   "execution_count": 414,
   "metadata": {},
   "outputs": [
    {
     "name": "stdout",
     "output_type": "stream",
     "text": [
      "(8722, 6)\n",
      "(8722, 151)\n"
     ]
    }
   ],
   "source": [
    "# photonic response sampled on the 151 visible wavelength spectrum (between 400 and 700 nm)\n",
    "print(X.shape)\n",
    "print(y.shape)"
   ]
  },
  {
   "cell_type": "code",
   "execution_count": 415,
   "metadata": {},
   "outputs": [],
   "source": [
    "y=y[~np.all(y == 0, axis=1)]\n",
    "X=X[~np.all(X == 0, axis=1)]"
   ]
  },
  {
   "cell_type": "code",
   "execution_count": null,
   "metadata": {},
   "outputs": [],
   "source": []
  },
  {
   "cell_type": "code",
   "execution_count": 416,
   "metadata": {},
   "outputs": [
    {
     "name": "stdout",
     "output_type": "stream",
     "text": [
      "(8722, 151)\n",
      "(8722, 6)\n"
     ]
    }
   ],
   "source": [
    "print(y.shape)\n",
    "print(X.shape)"
   ]
  },
  {
   "cell_type": "code",
   "execution_count": null,
   "metadata": {},
   "outputs": [],
   "source": []
  },
  {
   "cell_type": "code",
   "execution_count": null,
   "metadata": {},
   "outputs": [],
   "source": []
  },
  {
   "cell_type": "code",
   "execution_count": 331,
   "metadata": {},
   "outputs": [
    {
     "name": "stdout",
     "output_type": "stream",
     "text": [
      "X data\n",
      "[[-2.40138481 -0.21418128  0.6362451   0.42478585  0.19329606 -0.03297668]\n",
      " [ 0.51970702 -0.1569186   0.36563874  0.17227415 -0.22658189 -2.0100255 ]\n",
      " [ 0.03638795 -0.58504611 -0.81096193 -0.26892396 -0.29808117  2.34103073]\n",
      " ...\n",
      " [ 0.52994894 -1.14189584 -0.91571557  0.89656981  0.0439697  -0.42541753]\n",
      " [ 0.29720312  1.13389919 -1.60355742  0.05240135  1.11832675  0.03441326]\n",
      " [-2.39763196  0.19894311  0.64874194 -1.66737829  0.5202913  -0.23319817]]\n"
     ]
    }
   ],
   "source": [
    "# standartization/normalization of the dataset if flag is True\n",
    "\n",
    "if data_normalized_flag:\n",
    "    scaler = StandardScaler()\n",
    "    X = scaler.fit_transform(X)\n",
    "    print(\"X data\")\n",
    "    print(X)\n",
    "    \n",
    "   "
   ]
  },
  {
   "cell_type": "code",
   "execution_count": 369,
   "metadata": {},
   "outputs": [
    {
     "name": "stdout",
     "output_type": "stream",
     "text": [
      "\n",
      "Y data\n",
      "[[0.61493986 0.61253597 0.61113883 ... 0.28286152 0.27896138 0.27642459]\n",
      " [0.29958144 0.29869481 0.29749739 ... 0.21283314 0.20688677 0.20226998]\n",
      " [0.21782272 0.21065997 0.20324019 ... 0.04783514 0.04276202 0.03924474]\n",
      " ...\n",
      " [0.26440293 0.25849007 0.25221702 ... 0.13216763 0.1272297  0.12368138]\n",
      " [0.28395917 0.28446246 0.2853983  ... 0.32458221 0.31686477 0.31035209]\n",
      " [0.49766355 0.50318388 0.510045   ... 0.27481691 0.27275418 0.27192545]]\n"
     ]
    }
   ],
   "source": [
    "for i in range(151):\n",
    "    y_max = np.amax(y[:,i])\n",
    "    y_min = np.amin(y[:,i])\n",
    "    y[:,i] = (y[:,i]-y_min)/(y_max-y_min)\n",
    "print(\"\\nY data\")\n",
    "print(y)"
   ]
  },
  {
   "cell_type": "markdown",
   "metadata": {},
   "source": [
    "# DATA VISUALIZATION"
   ]
  },
  {
   "cell_type": "code",
   "execution_count": 333,
   "metadata": {},
   "outputs": [],
   "source": [
    "# copy of dataset to make a comparative distribution plot\n",
    "\n",
    "df1 = pd_x_train_val*(10**9)\n"
   ]
  },
  {
   "cell_type": "code",
   "execution_count": 334,
   "metadata": {},
   "outputs": [],
   "source": [
    "df2 = pd_y_train_val"
   ]
  },
  {
   "cell_type": "code",
   "execution_count": 335,
   "metadata": {},
   "outputs": [
    {
     "data": {
      "text/plain": [
       "<matplotlib.axes._subplots.AxesSubplot at 0x7fc84cf1ae48>"
      ]
     },
     "execution_count": 335,
     "metadata": {},
     "output_type": "execute_result"
    },
    {
     "data": {
      "image/png": "[encoded data removed]",
      "text/plain": [
       "<Figure size 432x288 with 1 Axes>"
      ]
     },
     "metadata": {
      "needs_background": "light"
     },
     "output_type": "display_data"
    }
   ],
   "source": [
    "# PDF of X (h width values)\n",
    "\n",
    "sns.kdeplot(data=df1)"
   ]
  },
  {
   "cell_type": "code",
   "execution_count": 336,
   "metadata": {},
   "outputs": [
    {
     "data": {
      "text/plain": [
       "<matplotlib.axes._subplots.AxesSubplot at 0x7fc84cdf8e80>"
      ]
     },
     "execution_count": 336,
     "metadata": {},
     "output_type": "execute_result"
    },
    {
     "data": {
      "image/png": "[encoded data removed]",
      "text/plain": [
       "<Figure size 432x288 with 1 Axes>"
      ]
     },
     "metadata": {
      "needs_background": "light"
     },
     "output_type": "display_data"
    }
   ],
   "source": [
    "# PDF of standartized X (h width values)\n",
    "\n",
    "sns.kdeplot(data=X)"
   ]
  },
  {
   "cell_type": "code",
   "execution_count": 337,
   "metadata": {},
   "outputs": [
    {
     "data": {
      "text/plain": [
       "<matplotlib.axes._subplots.AxesSubplot at 0x7fc84ce0deb8>"
      ]
     },
     "execution_count": 337,
     "metadata": {},
     "output_type": "execute_result"
    },
    {
     "data": {
      "image/png": "[encoded data removed]",
      "text/plain": [
       "<Figure size 432x288 with 1 Axes>"
      ]
     },
     "metadata": {
      "needs_background": "light"
     },
     "output_type": "display_data"
    }
   ],
   "source": [
    "# PDF of y (photonic response)\n",
    "\n",
    "sns.kdeplot(data=df2.iloc[:,:], legend=False)"
   ]
  },
  {
   "cell_type": "code",
   "execution_count": 338,
   "metadata": {},
   "outputs": [
    {
     "data": {
      "text/plain": [
       "<matplotlib.axes._subplots.AxesSubplot at 0x7fc84cb88e48>"
      ]
     },
     "execution_count": 338,
     "metadata": {},
     "output_type": "execute_result"
    },
    {
     "data": {
      "image/png": "[encoded data removed]",
      "text/plain": [
       "<Figure size 432x288 with 1 Axes>"
      ]
     },
     "metadata": {
      "needs_background": "light"
     },
     "output_type": "display_data"
    }
   ],
   "source": [
    "# PDF of normalized y (photonic response)\n",
    "\n",
    "sns.kdeplot(data=y, legend=False)"
   ]
  },
  {
   "cell_type": "markdown",
   "metadata": {},
   "source": [
    "# DATA LOADING METHOD"
   ]
  },
  {
   "cell_type": "code",
   "execution_count": 425,
   "metadata": {},
   "outputs": [],
   "source": [
    "# dataset loader function, for traning and validation loaders\n",
    "\n",
    "def data_loader(batch_size, x_train, y_train, x_val, y_val):\n",
    "    \n",
    "    train_dataset = TensorDataset(y_train, x_train)\n",
    "    val_dataset = TensorDataset(y_val, x_val)\n",
    "    \n",
    "    train_loader = DataLoader(dataset = train_dataset, \n",
    "                              batch_size = batch_size, \n",
    "                              shuffle = True)\n",
    "    \n",
    "    val_loader = DataLoader(dataset = val_dataset, \n",
    "                            batch_size = batch_size, \n",
    "                            shuffle = True)\n",
    "    \n",
    "    return train_loader, val_loader"
   ]
  },
  {
   "cell_type": "markdown",
   "metadata": {},
   "source": [
    "# NN MODEL DEFINITION"
   ]
  },
  {
   "cell_type": "code",
   "execution_count": 480,
   "metadata": {},
   "outputs": [],
   "source": [
    "# main NN model definition\n",
    "\n",
    "class NeuralNetwork(nn.Module):\n",
    "    def __init__(self, layer_size):\n",
    "        \n",
    "        super(NeuralNetwork, self).__init__()\n",
    "        self.main = nn.Sequential(\n",
    "            \n",
    "            nn.Linear(151, layer_size),\n",
    "            nn.BatchNorm1d(layer_size),\n",
    "            nn.Dropout(0.5),\n",
    "            nn.LeakyReLU(),\n",
    "            \n",
    "            nn.Linear(layer_size, layer_size),\n",
    "            nn.BatchNorm1d(layer_size),\n",
    "            nn.Dropout(0.5),\n",
    "            nn.LeakyReLU(),\n",
    "                           \n",
    "            nn.Linear(layer_size, layer_size),\n",
    "            nn.BatchNorm1d(layer_size),\n",
    "            nn.Dropout(0.5),\n",
    "            nn.LeakyReLU(),\n",
    "            \n",
    "            nn.Linear(layer_size, layer_size),\n",
    "            nn.BatchNorm1d(layer_size),\n",
    "            nn.Dropout(0.5),\n",
    "            nn.LeakyReLU(),\n",
    "            \n",
    "            nn.Linear(layer_size, layer_size),\n",
    "            nn.BatchNorm1d(layer_size),\n",
    "            nn.Dropout(0.5),\n",
    "            nn.LeakyReLU(),\n",
    "            \n",
    "            nn.Linear(layer_size, 6),\n",
    "        )\n",
    "    def forward(self, input):\n",
    "         return self.main(input)\n",
    "\n",
    "def make_train_step(model, loss_fn, optimizer, loss_type):\n",
    "    # Builds function that performs a step in the train loop\n",
    "    def train_step(x, y):\n",
    "        # Sets model to TRAIN mode\n",
    "        model.train()\n",
    "        # Makes predictions\n",
    "        yhat = model(x)\n",
    "        # Computes loss\n",
    "        if loss_type == \"loss_m\":\n",
    "            loss = torch.sqrt(loss_fn(yhat.view(-1), y.view(-1)))\n",
    "        else:\n",
    "            loss = loss_fn(yhat.view(-1), y.view(-1))\n",
    "        # Computes gradients\n",
    "        #loss = loss_fn(yhat.view(-1), y.view(-1))\n",
    "        loss.backward()\n",
    "        # Updates parameters and zeroes gradients\n",
    "        optimizer.step()\n",
    "        optimizer.zero_grad()\n",
    "        # Returns the loss\n",
    "        return loss.item()\n",
    "    # Returns the function that will be called inside the train loop\n",
    "    return train_step"
   ]
  },
  {
   "cell_type": "code",
   "execution_count": null,
   "metadata": {},
   "outputs": [],
   "source": []
  },
  {
   "cell_type": "markdown",
   "metadata": {},
   "source": [
    "# WEIGHTS INITIALIZATION"
   ]
  },
  {
   "cell_type": "code",
   "execution_count": 481,
   "metadata": {},
   "outputs": [],
   "source": [
    "# Xavier weights initialization\n",
    "\n",
    "def init_weights(m):\n",
    "    \n",
    "    if type(m) == nn.Linear:\n",
    "        torch.nn.init.xavier_uniform_(m.weight)\n",
    "        m.bias.data.fill_(0.01)\n",
    "    if type(m) == nn.Conv2d:\n",
    "        torch.nn.init.xavier_uniform_(m.weight)\n",
    "        m.bias.data.fill_(0.01)\n",
    "\n",
    "\n",
    "# model complexity calculation\n",
    "        \n",
    "def model_complexity(model):\n",
    "    \n",
    "    pytorch_total_params = sum(p.numel() for p in model.parameters())\n",
    "    print('Total: \\t\\t', pytorch_total_params/10**6)\n",
    "    pytorch_train_params = sum(p.numel() for p in model.parameters() if p.requires_grad==True)\n",
    "    print('Trainable: \\t\\t', pytorch_train_params/10**6)\n",
    "    \n",
    "    return (pytorch_train_params/10**6)"
   ]
  },
  {
   "cell_type": "markdown",
   "metadata": {},
   "source": [
    "# IDEAL-FLAT RESPONSE AND OPTIMAL DESIGN GENERATION  "
   ]
  },
  {
   "cell_type": "code",
   "execution_count": 482,
   "metadata": {},
   "outputs": [],
   "source": [
    "# function to gradually feed the already-trained model with ideal flat photonic response\n",
    "# starting from 1 to 200 threshold, we feed a 1x151 vectors starting from [1, 1, 1, ..., 1] to [200, 200, 200, ..., 200]\n",
    "# The trained NN model outputs the corresponding optimal design in response to the ideal flat response \n",
    "\n",
    "def increase(bestmodel):\n",
    "    \n",
    "    bestmodel.eval()\n",
    "    \n",
    "    if includes_source_distance:\n",
    "        expected = torch.ones(1,6)\n",
    "    else:\n",
    "        expected = torch.ones(1,5)\n",
    "        \n",
    "    threshold = 10\n",
    "    j = 0\n",
    "    vals_arr = []\n",
    "    threshold_arr = []\n",
    "    \n",
    "    while threshold < 50:\n",
    "        vals = expected\n",
    "        threshold = (1+j)\n",
    "        j=j+0.25\n",
    "        \n",
    "        true_x_np = threshold * np.ones((1,151))\n",
    "        true_x = torch.from_numpy( true_x_np.reshape(1,151) ).float()\n",
    "        expected = bestmodel(true_x.to(device)).view(1,-1)\n",
    "        vals_arr.append(expected.cpu().data.numpy())\n",
    "        threshold_arr.append(threshold)\n",
    "    \n",
    "    vals_arr = np.array(vals_arr)\n",
    "    vals_arr = vals_arr.reshape(vals_arr.shape[0],-1)\n",
    "    threshold_arr = np.array(threshold_arr)\n",
    "    \n",
    "    print(\"Ideal response's array shapes:\")\n",
    "    print(vals_arr.shape)\n",
    "    print(threshold_arr.shape)\n",
    "    \n",
    "    return vals_arr, threshold_arr "
   ]
  },
  {
   "cell_type": "markdown",
   "metadata": {},
   "source": [
    "# INAPPROPRIATE RESULTS FILTERING"
   ]
  },
  {
   "cell_type": "code",
   "execution_count": 483,
   "metadata": {},
   "outputs": [],
   "source": [
    "# function to filter out negative samples generated by model so far\n",
    "\n",
    "def extract_positive(vals_arr, threshold_arr):\n",
    "    \n",
    "    val_temp = []\n",
    "    threshold_temp = []\n",
    "    counter = 0\n",
    "    \n",
    "    main_val_matlab = []\n",
    "    main_tr_matlab = []\n",
    "    \n",
    "    for i, row in enumerate(vals_arr):\n",
    "        #if ((row < 1).any() == False)\n",
    "        #(((row[0:5] >= 10).any() == True) and ((row[0:5] <= 100).any() == True)) and\n",
    "        #and ((row[0]+row[1]+row[2]+row[3]+row[4] < row[5]) == True)\n",
    "        #and ((row[0:6] > 1200).any() == False)\n",
    "        if (row < 1).any() == False and (row[0:5] > 600).any() == False:\n",
    "        #if ((row < 1).any() == False):\n",
    "\n",
    "            val_temp.append(row)\n",
    "            threshold_temp.append(threshold_arr[i])\n",
    "            counter +=1\n",
    "            \n",
    "    print(counter)\n",
    "    val_temp = np.array(val_temp)\n",
    "    val_temp.shape\n",
    "    \n",
    "    threshold_temp = np.array(threshold_temp)\n",
    "    threshold_temp.shape\n",
    "    \n",
    "    return  val_temp, threshold_temp"
   ]
  },
  {
   "cell_type": "markdown",
   "metadata": {},
   "source": [
    "# MODEL PARAMETERS INITIALIZATION"
   ]
  },
  {
   "cell_type": "code",
   "execution_count": 484,
   "metadata": {},
   "outputs": [],
   "source": [
    "# function to initialize the optimizer, model instance and other training stuff\n",
    "\n",
    "def params_init(layer_size, learning_r, loss_main, loss_secondary):\n",
    "\n",
    "    model = NeuralNetwork(layer_size).to(device)\n",
    "    model.apply(init_weights)\n",
    "    optimizer = torch.optim.Adam(model.parameters(), lr = learning_r)\n",
    "    \n",
    "    train_step_main = make_train_step(model, loss_main, optimizer, \"loss_m\")\n",
    "    train_step_secondary = make_train_step(model, loss_secondary, optimizer, \"loss_s\")\n",
    "    \n",
    "    counter = 0\n",
    "    \n",
    "    return model, optimizer, train_step_main, train_step_secondary, counter"
   ]
  },
  {
   "cell_type": "markdown",
   "metadata": {},
   "source": [
    "# MAIN TRAINING-VALIDATION SCRIPT"
   ]
  },
  {
   "cell_type": "code",
   "execution_count": 485,
   "metadata": {},
   "outputs": [],
   "source": [
    "# the main function to train and validate the model\n",
    "\n",
    "def train_main(part, train_loader, val_loader, args):\n",
    "    \n",
    "    device = args.device\n",
    "    np.random.seed(args.seed)\n",
    "    torch.manual_seed(args.seed)\n",
    "    \n",
    "    records = pd.DataFrame(columns=['Part_Num', 'Learning_rate', 'Layer_size', 'best_val(RMSE)',\\\n",
    "                                    'last_val(MAE)', 'stopping epoch', 'counter',\\\n",
    "                                    'positive num', 'all'])\n",
    "    \n",
    "    lr_arr = np.array([0.0001, 0.0005]).reshape(-1,1)\n",
    "    N_size = np.array([100, 200, 300, 400 ,500 ,600]).reshape(-1,1)\n",
    "    \n",
    "    #lr_arr = np.array([0.01, 0.05, 0.1, 0.5]).reshape(-1,1)\n",
    "    #N_size = np.array([25, 50, 100, 150]).reshape(-1,1)\n",
    "    \n",
    "    for i, LR in enumerate(lr_arr):\n",
    "        for j, LS in enumerate(N_size):\n",
    "            \n",
    "            Learning_rate = LR[0]\n",
    "            Layer_size    = LS[0]\n",
    "            \n",
    "            ds = DataStore(part, Learning_rate, Layer_size)\n",
    "            \n",
    "            loss_main =  nn.MSELoss()\n",
    "            #loss_secondary = MARE\n",
    "            loss_secondary = nn.L1Loss()\n",
    "            model, optimizer, train_step_main, train_step_secondary, counter = params_init(Layer_size, Learning_rate, \\\n",
    "                                                                                           loss_main, loss_secondary)\n",
    "            complexity = model_complexity(model)\n",
    "            \n",
    "            print(\"%-10s\\n %-15s %-4.6f \\n %-15s %-4.2f\\n %10s\" %(\"////////////////////////\",\\\n",
    "                                                                  \"Learning Rate:\", Learning_rate,\\\n",
    "                                                                  \"Layer Size:\",    Layer_size,\\\n",
    "                                                                  \"////////////////////////\"))\n",
    "            \n",
    "            bestmodel, best_val_error_main, best_val_error_secondary, counter, epoch = train_procedure(model, \\\n",
    "                                                                                                       train_step_main, \\\n",
    "                                                                                                       train_step_secondary, \\\n",
    "                                                                                                       loss_main, \\\n",
    "                                                                                                       loss_secondary, \\\n",
    "                                                                                                       train_loader, \\\n",
    "                                                                                                       val_loader, \\\n",
    "                                                                                                       args, \\\n",
    "                                                                                                       part, \\\n",
    "                                                                                                       Layer_size, \\\n",
    "                                                                                                       Learning_rate)\n",
    "            \n",
    "            ds.net_saver(bestmodel)\n",
    "            vals_arr, threshold_arr = increase(bestmodel)\n",
    "            val_temp, threshold_temp = extract_positive(vals_arr, threshold_arr)\n",
    "            ds.dimensions_saver(val_temp, threshold_temp)\n",
    "            #ds.dimensions_saver(vals_arr, threshold_arr)\n",
    "\n",
    "            new_row = {'Part_Num': part, \\\n",
    "                       'Learning_rate': Learning_rate, \\\n",
    "                       'Layer_size': Layer_size, \\\n",
    "                       'best_val(RMSE)': best_val_error_main, \\\n",
    "                       'last_val(MAE)': best_val_error_secondary, \\\n",
    "                       'stopping epoch': epoch, \\\n",
    "                       'counter': counter, \\\n",
    "                       'positive num':val_temp.shape[0], \\\n",
    "                       'all': vals_arr.shape[0]}\n",
    "            \n",
    "            records = records.append(new_row, ignore_index=True)\n",
    "    \n",
    "    ds.records_saver(records)\n",
    "    \n",
    "    return lr_arr, N_size\n",
    "    \n",
    "    "
   ]
  },
  {
   "cell_type": "markdown",
   "metadata": {},
   "source": [
    "# SECONDARY TRAINING-VALIDATION SCRIPT"
   ]
  },
  {
   "cell_type": "code",
   "execution_count": 486,
   "metadata": {},
   "outputs": [],
   "source": [
    "# secondary main function to train and validate model\n",
    "\n",
    "def train_procedure(model, train_step_main, train_step_secondary, loss_main, loss_secondary,\n",
    "                    train_loader, val_loader, args, part, Layer_size, Learning_rate):\n",
    "    \n",
    "    n_epochs = args.epochs\n",
    "    device = args.device\n",
    "    np.random.seed(args.seed)\n",
    "    torch.manual_seed(args.seed)\n",
    "    \n",
    "    counter = 0\n",
    "    i = 0\n",
    "    k = 0\n",
    "    \n",
    "    tr_losses_main_global = []\n",
    "    val_losses_main_global = []\n",
    "    \n",
    "    tr_losses_secondary_global = []\n",
    "    val_losses_secondary_global = []\n",
    "    \n",
    "    best_val_error_main = 70000\n",
    "    final_error_secondary = 70000\n",
    "    \n",
    "    for epoch in range(0, n_epochs):\n",
    "        \n",
    "        tr_losses_main = []\n",
    "        tr_losses_secondary= []\n",
    "        \n",
    "        val_losses_main = []\n",
    "        val_losses_secondary = []\n",
    "        \n",
    "        for x_batch, y_batch in train_loader:\n",
    "            \n",
    "            x_batch = x_batch.to(device)\n",
    "            y_batch = y_batch.to(device)\n",
    "            \n",
    "            tr_loss_main = train_step_main(x_batch, y_batch)\n",
    "            tr_losses_main.append(tr_loss_main)\n",
    "            \n",
    "            tr_loss_secondary = train_step_secondary(x_batch, y_batch)\n",
    "            tr_losses_secondary.append(tr_loss_secondary)\n",
    "            \n",
    "        with torch.no_grad():\n",
    "            model.eval()\n",
    "            for x_val, y_val in val_loader:\n",
    "                \n",
    "                x_val = x_val.to(device)\n",
    "                y_val = y_val.to(device)\n",
    "                y_hat = model(x_val)\n",
    "                \n",
    "                val_losses_main_temp = torch.sqrt(loss_main(y_hat, y_val))\n",
    "                val_losses_secondary_temp = loss_secondary(y_hat, y_val)\n",
    "                \n",
    "                val_losses_main.append(val_losses_main_temp.item())\n",
    "                val_losses_secondary.append(val_losses_secondary_temp.item())\n",
    "            \n",
    "            counter += 1\n",
    "            \n",
    "            if (st.mean(val_losses_main) < best_val_error_main):\n",
    "                best_val_error_main = st.mean(val_losses_main)\n",
    "                final_error_secondary = st.mean(val_losses_secondary)\n",
    "                bestm = copy.deepcopy(model)\n",
    "                counter = 1\n",
    "            \n",
    "            MSE_TR  = st.mean(tr_losses_main)\n",
    "            MSE_VL  = st.mean(val_losses_main)\n",
    "            MARE_TR = st.mean(tr_losses_secondary)\n",
    "            MARE_VL = st.mean(val_losses_secondary)\n",
    "            \n",
    "            if  counter >= 1:\n",
    "                print(\"%-5s %-i   %-5s %-i   %-10s %-4.9f   %-10s %-4.9f   %-10s %-4.9f   %-10s %-4.9f \\n\" % \\\n",
    "                      (\"Epochs\", epoch+1, \"Counter\", counter, \\\n",
    "                       \"Train(RMSE):\", np.round(MSE_TR,7), \\\n",
    "                       \"Val(RMSE):\", np.round(MSE_VL,7), \\\n",
    "                       \"Train(MAE),%:\", np.round( MARE_TR,7), \\\n",
    "                       \"Val(MAE),%:\", np.round(MARE_VL,7)))\n",
    "            \n",
    "            tr_losses_main_global.append(MSE_TR)\n",
    "            val_losses_main_global.append(MSE_VL)\n",
    "            tr_losses_secondary_global.append(MARE_TR)\n",
    "            val_losses_secondary_global.append(MARE_VL)\n",
    "            \n",
    "            if counter == args.stopping_criterion:\n",
    "                print('//////////////////////////////////The End /////////////////////////////////////////////////////////////////////////////////////////////////')\n",
    "                break;\n",
    "    \n",
    "    plt.plot(np.arange(1, epoch+2), tr_losses_main_global, color='green', label=\"RMSE Train\")\n",
    "    plt.plot(np.arange(1, epoch+2), val_losses_main_global, color='red', label=\"RMSE Val\")\n",
    "    plt.xlabel('Epoch')\n",
    "    plt.ylabel('RMSE Loss')\n",
    "    plt.title('Train-Val, Layer Size: ' + str(Layer_size) + ', Learning Rate: ' + str(Learning_rate))\n",
    "    plt.legend()\n",
    "    plt.savefig(\"./Results_Images/Part_\" + str(part) + \"_lr_\" + str(Learning_rate) + \"_layer_size_\" + str(Layer_size) + \".png\")\n",
    "    plt.show()\n",
    "\n",
    "    return bestm, best_val_error_main, final_error_secondary, counter, epoch+1"
   ]
  },
  {
   "cell_type": "markdown",
   "metadata": {},
   "source": [
    "# DATA STORING METHODS"
   ]
  },
  {
   "cell_type": "code",
   "execution_count": 487,
   "metadata": {},
   "outputs": [],
   "source": [
    "# data store to files\n",
    "\n",
    "import os\n",
    "import torch\n",
    "import pandas as pd\n",
    "\n",
    "class DataStore():\n",
    "    def __init__(self, part, Learning_r, Layer_s):\n",
    "        super().__init__()\n",
    "        self.part = part\n",
    "        self.Learning_r = Learning_r\n",
    "        self.Layer_s = Layer_s\n",
    "        self.results_dir = 'Results'\n",
    "        self.part_number = 'Part_Number_' + str(self.part)\n",
    "        self.folder_name = self.part_number + '_lr_' + str(self.Learning_r) + '_layer_size_' + str(self.Layer_s)\n",
    "        self.part_dir = os.path.join(\n",
    "            self.results_dir, self.part_number)\n",
    "        self.checkpoint_dir = os.path.join(\n",
    "            self.part_dir, self.folder_name)\n",
    "        os.makedirs(self.part_dir, exist_ok = True)\n",
    "        os.makedirs(self.checkpoint_dir, exist_ok = True)\n",
    "        \n",
    "    def net_saver(self, model_to_save):\n",
    "        model_name = self.part_number + '_model_lr_' + str(self.Learning_r) + '_layer_size_' + str(self.Layer_s) + '.pt'\n",
    "        model_path = os.path.join(self.checkpoint_dir, model_name)\n",
    "        torch.save(model_to_save.state_dict(), model_path)\n",
    "        print(model_name, 'Was saved successfully \\t\\t\\t[saved]')\n",
    "        \n",
    "    def net_loader(self, path = None):\n",
    "        testm = NN(self.Layer_s).to(device)\n",
    "        if path is None:\n",
    "            model_name = self.part_number + '_model_lr_' + str(self.Learning_r) + '_layer_size_' + str(self.Layer_s) + '.pt'\n",
    "            path = os.path.join(self.checkpoint_dir, model_name)\n",
    "            testm.load_state_dict(torch.load(path))\n",
    "            print(model_name,' Was loaded successfully loaded.\\t\\t\\t [loaded]')\n",
    "        else:\n",
    "            testm.load_state_dict(torch.load(path))\n",
    "            print(model_name,' Was loaded successfully loaded from the path.\\t\\t\\t [loaded from Path]')\n",
    "        return testm\n",
    "    \n",
    "    def records_saver(self, records):\n",
    "        self.records  = records\n",
    "        self.name_records =  'Part_Number_' + str(self.part) + '_records.csv'\n",
    "        self.records.to_csv(os.path.join(self.results_dir, self.name_records),index = True,header = True)\n",
    "        \n",
    "    def dimensions_saver(self, d_values, threshold):\n",
    "        self.vals_matlab = pd.DataFrame(d_values)\n",
    "        self.threshold_matlab = pd.DataFrame(threshold)\n",
    "        name_vals = self.part_number  + '_vals_lr_'+ str(self.Learning_r) + '_layer_size_'+str(self.Layer_s)+'.csv'\n",
    "        name_threshold = self.part_number  + '_threshold_lr_'+str(self.Learning_r) + '_layer_size_'+str(self.Layer_s)+'.csv'\n",
    "        self.vals_matlab.to_csv(os.path.join(self.checkpoint_dir, name_vals), index = False, header = False)\n",
    "        self.threshold_matlab.to_csv(os.path.join(self.checkpoint_dir, name_threshold), index = False, header = False)\n",
    "        \n",
    "def description_saver(lr, ls,\n",
    "                      data_distribution, data_normalized_flag,\n",
    "                      includes_source_distance, polarization_mode, args):\n",
    "    \n",
    "    f = open(\"./Results/Description.txt\", \"w\")\n",
    "    \n",
    "    array = np.array2string(lr, separator=',')\n",
    "    f.write(\"Learning rates: \\n\")\n",
    "    f.write(array)\n",
    "    f.write(\"\\n\\n\")\n",
    "    \n",
    "    array = np.array2string(ls, separator=',')\n",
    "    f.write(\"Layer sizes: \\n\")\n",
    "    f.write(array)\n",
    "    f.write(\"\\n\\n\")\n",
    "    \n",
    "    f.write(\"Data distribution: \" + str(data_distribution))\n",
    "    f.write(\"\\n\")\n",
    "    \n",
    "    f.write(\"Data normalized flag: \" + str(data_normalized_flag))\n",
    "    f.write(\"\\n\")\n",
    "    \n",
    "    f.write(\"Includes source distance: \" + str(includes_source_distance))\n",
    "    f.write(\"\\n\")\n",
    "    \n",
    "    f.write(\"Polarization mode: \" + str(polarization_mode))\n",
    "    f.write(\"\\n\")\n",
    "    \n",
    "    f.write(\"Epochs: \" + str(args.epochs))\n",
    "    f.write(\"\\n\")\n",
    "    \n",
    "    f.write(\"Stopping criteria: \" + str(args.stopping_criterion))\n",
    "    f.write(\"\\n\")\n",
    "    \n",
    "    f.write(\"Batch size: \" + str(args.batch_size))\n",
    "    f.write(\"\\n\")\n",
    "    \n",
    "    f.write(\"CV parts: \" + str(args.n_splits))\n",
    "    f.write(\"\\n\")\n",
    "    "
   ]
  },
  {
   "cell_type": "markdown",
   "metadata": {},
   "source": [
    "# MAIN FUNCTION DEFINITION"
   ]
  },
  {
   "cell_type": "code",
   "execution_count": 499,
   "metadata": {},
   "outputs": [],
   "source": [
    "# script to initialize K-fold cross validation on dataset provided (the main loop)\n",
    "\n",
    "from sklearn.model_selection import KFold\n",
    "import argparse\n",
    "\n",
    "def main(args):\n",
    "    \n",
    "    print(args)\n",
    "    sys.path.append(\"/.\")\n",
    "    np.random.seed(args.seed)\n",
    "    torch.manual_seed(args.seed)\n",
    "    \n",
    "    kf = KFold(n_splits=args.n_splits, random_state=256, shuffle=True)\n",
    "    kf.get_n_splits(X)\n",
    "    device = args.device\n",
    "    print(kf)\n",
    "    part = 0\n",
    "    \n",
    "    for train_index, test_index in kf.split(X):\n",
    "        part += 1\n",
    "        if part in args.parts:\n",
    "            print('CV part number:\\t', part)\n",
    "            X_train, X_test = X[train_index], X[test_index]\n",
    "            y_train, y_test = y[train_index], y[test_index]\n",
    "            x_train_tensor, x_test_tensor, y_train_tensor, y_test_tensor = torch.from_numpy(X_train).float().to(device), \\\n",
    "            torch.from_numpy(X_test).float().to(device),\\\n",
    "            torch.from_numpy(y_train).float().to(device),\\\n",
    "            torch.from_numpy(y_test).float().to(device)\n",
    "            \n",
    "            train_loader, val_loader = data_loader(args.batch_size, x_train_tensor, \\\n",
    "                                                   y_train_tensor, x_test_tensor, \\\n",
    "                                                   y_test_tensor)\n",
    "            lr, ls = train_main(part, train_loader, val_loader, args)\n",
    "            \n",
    "    description_saver(lr, ls, data_distribution, data_normalized_flag, \n",
    "                      includes_source_distance, polarization_mode, args)"
   ]
  },
  {
   "cell_type": "code",
   "execution_count": 500,
   "metadata": {},
   "outputs": [
    {
     "data": {
      "text/plain": [
       "array([[  0.79526087,  91.66008719, 122.37098878, 113.7217228 ,\n",
       "        105.23249327,  83.79057999],\n",
       "       [115.60977954,  93.71220482, 112.61695481, 104.57266756,\n",
       "         90.0948414 ,   9.10295952],\n",
       "       [ 96.61275718,  78.369437  ,  70.20626215,  88.58708814,\n",
       "         87.51711317, 173.47423493],\n",
       "       ...,\n",
       "       [116.01234161,  58.41366237,  66.43040661, 130.81549497,\n",
       "         99.84890408,  68.96521344],\n",
       "       [106.86418707, 139.97112771,  41.63707624, 100.22941216,\n",
       "        138.58216753,  86.33639187],\n",
       "       [  0.94276802, 106.46518924, 122.82143876,  37.91800699,\n",
       "        117.0214909 ,  76.22674726]])"
      ]
     },
     "execution_count": 500,
     "metadata": {},
     "output_type": "execute_result"
    }
   ],
   "source": [
    "X"
   ]
  },
  {
   "cell_type": "code",
   "execution_count": 501,
   "metadata": {},
   "outputs": [
    {
     "data": {
      "text/plain": [
       "array([[7.35652044, 7.32581807, 7.29592122, ..., 2.88443024, 2.87340273,\n",
       "        2.86293522],\n",
       "       [5.10780363, 5.09643244, 5.08190208, ..., 2.57201315, 2.5502935 ,\n",
       "        2.52869215],\n",
       "       [4.52480919, 4.47107271, 4.41653324, ..., 1.83590873, 1.81452512,\n",
       "        1.79387528],\n",
       "       ...,\n",
       "       [4.85695731, 4.81083615, 4.76226448, ..., 2.21214068, 2.19319224,\n",
       "        2.17446336],\n",
       "       [4.99640639, 4.99533223, 4.99649372, ..., 3.07055845, 3.04332293,\n",
       "        3.01585939],\n",
       "       [6.52026178, 6.54903023, 6.58229209, ..., 2.84854086, 2.84557595,\n",
       "        2.8426559 ]])"
      ]
     },
     "execution_count": 501,
     "metadata": {},
     "output_type": "execute_result"
    }
   ],
   "source": [
    "y"
   ]
  },
  {
   "cell_type": "markdown",
   "metadata": {},
   "source": [
    "# SCRIPT LAUNCHES HERE..."
   ]
  },
  {
   "cell_type": "code",
   "execution_count": 502,
   "metadata": {
    "scrolled": true
   },
   "outputs": [
    {
     "name": "stdout",
     "output_type": "stream",
     "text": [
      "Namespace(batch_size=256, device='cuda', epochs=1000, n_splits=3, parts=array([ 1,  2,  3,  4,  5,  6,  7,  8,  9, 10]), seed=17, stopping_criterion=20)\n",
      "KFold(n_splits=3, random_state=256, shuffle=True)\n",
      "CV part number:\t 1\n",
      "Total: \t\t 0.025898\n",
      "Trainable: \t\t 0.025898\n",
      "////////////////////////\n",
      " Learning Rate:  0.000100 \n",
      " Layer Size:     100.00\n",
      " ////////////////////////\n"
     ]
    },
    {
     "ename": "RuntimeError",
     "evalue": "running_mean should contain 1 elements not 100",
     "output_type": "error",
     "traceback": [
      "\u001b[0;31m---------------------------------------------------------------------------\u001b[0m",
      "\u001b[0;31mRuntimeError\u001b[0m                              Traceback (most recent call last)",
      "\u001b[0;32m<ipython-input-502-e12f1a8ff9f1>\u001b[0m in \u001b[0;36m<module>\u001b[0;34m\u001b[0m\n\u001b[1;32m     22\u001b[0m     \u001b[0margs\u001b[0m \u001b[0;34m=\u001b[0m \u001b[0mparser\u001b[0m\u001b[0;34m.\u001b[0m\u001b[0mparse_args\u001b[0m\u001b[0;34m(\u001b[0m\u001b[0;34m\"\"\u001b[0m\u001b[0;34m)\u001b[0m\u001b[0;34m\u001b[0m\u001b[0;34m\u001b[0m\u001b[0m\n\u001b[1;32m     23\u001b[0m \u001b[0;34m\u001b[0m\u001b[0m\n\u001b[0;32m---> 24\u001b[0;31m     \u001b[0mmain\u001b[0m\u001b[0;34m(\u001b[0m\u001b[0margs\u001b[0m\u001b[0;34m)\u001b[0m\u001b[0;34m\u001b[0m\u001b[0;34m\u001b[0m\u001b[0m\n\u001b[0m",
      "\u001b[0;32m<ipython-input-499-2372ba651c0b>\u001b[0m in \u001b[0;36mmain\u001b[0;34m(args)\u001b[0m\n\u001b[1;32m     34\u001b[0m                                                    \u001b[0my_train_tensor\u001b[0m\u001b[0;34m,\u001b[0m \u001b[0mx_test_tensor\u001b[0m\u001b[0;34m,\u001b[0m\u001b[0;31m \u001b[0m\u001b[0;31m\\\u001b[0m\u001b[0;34m\u001b[0m\u001b[0;34m\u001b[0m\u001b[0m\n\u001b[1;32m     35\u001b[0m                                                    y_test_tensor)\n\u001b[0;32m---> 36\u001b[0;31m             \u001b[0mlr\u001b[0m\u001b[0;34m,\u001b[0m \u001b[0mls\u001b[0m \u001b[0;34m=\u001b[0m \u001b[0mtrain_main\u001b[0m\u001b[0;34m(\u001b[0m\u001b[0mpart\u001b[0m\u001b[0;34m,\u001b[0m \u001b[0mtrain_loader\u001b[0m\u001b[0;34m,\u001b[0m \u001b[0mval_loader\u001b[0m\u001b[0;34m,\u001b[0m \u001b[0margs\u001b[0m\u001b[0;34m)\u001b[0m\u001b[0;34m\u001b[0m\u001b[0;34m\u001b[0m\u001b[0m\n\u001b[0m\u001b[1;32m     37\u001b[0m \u001b[0;34m\u001b[0m\u001b[0m\n\u001b[1;32m     38\u001b[0m     description_saver(lr, ls, data_distribution, data_normalized_flag, \n",
      "\u001b[0;32m<ipython-input-485-c03fa88b0ab6>\u001b[0m in \u001b[0;36mtrain_main\u001b[0;34m(part, train_loader, val_loader, args)\u001b[0m\n\u001b[1;32m     47\u001b[0m                                                                                                        \u001b[0mpart\u001b[0m\u001b[0;34m,\u001b[0m\u001b[0;31m \u001b[0m\u001b[0;31m\\\u001b[0m\u001b[0;34m\u001b[0m\u001b[0;34m\u001b[0m\u001b[0m\n\u001b[1;32m     48\u001b[0m                                                                                                        \u001b[0mLayer_size\u001b[0m\u001b[0;34m,\u001b[0m\u001b[0;31m \u001b[0m\u001b[0;31m\\\u001b[0m\u001b[0;34m\u001b[0m\u001b[0;34m\u001b[0m\u001b[0m\n\u001b[0;32m---> 49\u001b[0;31m                                                                                                        Learning_rate)\n\u001b[0m\u001b[1;32m     50\u001b[0m \u001b[0;34m\u001b[0m\u001b[0m\n\u001b[1;32m     51\u001b[0m             \u001b[0mds\u001b[0m\u001b[0;34m.\u001b[0m\u001b[0mnet_saver\u001b[0m\u001b[0;34m(\u001b[0m\u001b[0mbestmodel\u001b[0m\u001b[0;34m)\u001b[0m\u001b[0;34m\u001b[0m\u001b[0;34m\u001b[0m\u001b[0m\n",
      "\u001b[0;32m<ipython-input-486-7c966e9f2bba>\u001b[0m in \u001b[0;36mtrain_procedure\u001b[0;34m(model, train_step_main, train_step_secondary, loss_main, loss_secondary, train_loader, val_loader, args, part, Layer_size, Learning_rate)\u001b[0m\n\u001b[1;32m     35\u001b[0m             \u001b[0my_batch\u001b[0m \u001b[0;34m=\u001b[0m \u001b[0my_batch\u001b[0m\u001b[0;34m.\u001b[0m\u001b[0mto\u001b[0m\u001b[0;34m(\u001b[0m\u001b[0mdevice\u001b[0m\u001b[0;34m)\u001b[0m\u001b[0;34m\u001b[0m\u001b[0;34m\u001b[0m\u001b[0m\n\u001b[1;32m     36\u001b[0m \u001b[0;34m\u001b[0m\u001b[0m\n\u001b[0;32m---> 37\u001b[0;31m             \u001b[0mtr_loss_main\u001b[0m \u001b[0;34m=\u001b[0m \u001b[0mtrain_step_main\u001b[0m\u001b[0;34m(\u001b[0m\u001b[0mx_batch\u001b[0m\u001b[0;34m,\u001b[0m \u001b[0my_batch\u001b[0m\u001b[0;34m)\u001b[0m\u001b[0;34m\u001b[0m\u001b[0;34m\u001b[0m\u001b[0m\n\u001b[0m\u001b[1;32m     38\u001b[0m             \u001b[0mtr_losses_main\u001b[0m\u001b[0;34m.\u001b[0m\u001b[0mappend\u001b[0m\u001b[0;34m(\u001b[0m\u001b[0mtr_loss_main\u001b[0m\u001b[0;34m)\u001b[0m\u001b[0;34m\u001b[0m\u001b[0;34m\u001b[0m\u001b[0m\n\u001b[1;32m     39\u001b[0m \u001b[0;34m\u001b[0m\u001b[0m\n",
      "\u001b[0;32m<ipython-input-480-4c3a5c4484e2>\u001b[0m in \u001b[0;36mtrain_step\u001b[0;34m(x, y)\u001b[0m\n\u001b[1;32m     50\u001b[0m         \u001b[0mmodel\u001b[0m\u001b[0;34m.\u001b[0m\u001b[0mtrain\u001b[0m\u001b[0;34m(\u001b[0m\u001b[0;34m)\u001b[0m\u001b[0;34m\u001b[0m\u001b[0;34m\u001b[0m\u001b[0m\n\u001b[1;32m     51\u001b[0m         \u001b[0;31m# Makes predictions\u001b[0m\u001b[0;34m\u001b[0m\u001b[0;34m\u001b[0m\u001b[0;34m\u001b[0m\u001b[0m\n\u001b[0;32m---> 52\u001b[0;31m         \u001b[0myhat\u001b[0m \u001b[0;34m=\u001b[0m \u001b[0mmodel\u001b[0m\u001b[0;34m(\u001b[0m\u001b[0mx\u001b[0m\u001b[0;34m)\u001b[0m\u001b[0;34m\u001b[0m\u001b[0;34m\u001b[0m\u001b[0m\n\u001b[0m\u001b[1;32m     53\u001b[0m         \u001b[0;31m# Computes loss\u001b[0m\u001b[0;34m\u001b[0m\u001b[0;34m\u001b[0m\u001b[0;34m\u001b[0m\u001b[0m\n\u001b[1;32m     54\u001b[0m         \u001b[0;32mif\u001b[0m \u001b[0mloss_type\u001b[0m \u001b[0;34m==\u001b[0m \u001b[0;34m\"loss_m\"\u001b[0m\u001b[0;34m:\u001b[0m\u001b[0;34m\u001b[0m\u001b[0;34m\u001b[0m\u001b[0m\n",
      "\u001b[0;32m/opt/conda/lib/python3.6/site-packages/torch/nn/modules/module.py\u001b[0m in \u001b[0;36m__call__\u001b[0;34m(self, *input, **kwargs)\u001b[0m\n\u001b[1;32m    575\u001b[0m             \u001b[0mresult\u001b[0m \u001b[0;34m=\u001b[0m \u001b[0mself\u001b[0m\u001b[0;34m.\u001b[0m\u001b[0m_slow_forward\u001b[0m\u001b[0;34m(\u001b[0m\u001b[0;34m*\u001b[0m\u001b[0minput\u001b[0m\u001b[0;34m,\u001b[0m \u001b[0;34m**\u001b[0m\u001b[0mkwargs\u001b[0m\u001b[0;34m)\u001b[0m\u001b[0;34m\u001b[0m\u001b[0;34m\u001b[0m\u001b[0m\n\u001b[1;32m    576\u001b[0m         \u001b[0;32melse\u001b[0m\u001b[0;34m:\u001b[0m\u001b[0;34m\u001b[0m\u001b[0;34m\u001b[0m\u001b[0m\n\u001b[0;32m--> 577\u001b[0;31m             \u001b[0mresult\u001b[0m \u001b[0;34m=\u001b[0m \u001b[0mself\u001b[0m\u001b[0;34m.\u001b[0m\u001b[0mforward\u001b[0m\u001b[0;34m(\u001b[0m\u001b[0;34m*\u001b[0m\u001b[0minput\u001b[0m\u001b[0;34m,\u001b[0m \u001b[0;34m**\u001b[0m\u001b[0mkwargs\u001b[0m\u001b[0;34m)\u001b[0m\u001b[0;34m\u001b[0m\u001b[0;34m\u001b[0m\u001b[0m\n\u001b[0m\u001b[1;32m    578\u001b[0m         \u001b[0;32mfor\u001b[0m \u001b[0mhook\u001b[0m \u001b[0;32min\u001b[0m \u001b[0mself\u001b[0m\u001b[0;34m.\u001b[0m\u001b[0m_forward_hooks\u001b[0m\u001b[0;34m.\u001b[0m\u001b[0mvalues\u001b[0m\u001b[0;34m(\u001b[0m\u001b[0;34m)\u001b[0m\u001b[0;34m:\u001b[0m\u001b[0;34m\u001b[0m\u001b[0;34m\u001b[0m\u001b[0m\n\u001b[1;32m    579\u001b[0m             \u001b[0mhook_result\u001b[0m \u001b[0;34m=\u001b[0m \u001b[0mhook\u001b[0m\u001b[0;34m(\u001b[0m\u001b[0mself\u001b[0m\u001b[0;34m,\u001b[0m \u001b[0minput\u001b[0m\u001b[0;34m,\u001b[0m \u001b[0mresult\u001b[0m\u001b[0;34m)\u001b[0m\u001b[0;34m\u001b[0m\u001b[0;34m\u001b[0m\u001b[0m\n",
      "\u001b[0;32m<ipython-input-480-4c3a5c4484e2>\u001b[0m in \u001b[0;36mforward\u001b[0;34m(self, input)\u001b[0m\n\u001b[1;32m     42\u001b[0m         )\n\u001b[1;32m     43\u001b[0m     \u001b[0;32mdef\u001b[0m \u001b[0mforward\u001b[0m\u001b[0;34m(\u001b[0m\u001b[0mself\u001b[0m\u001b[0;34m,\u001b[0m \u001b[0minput\u001b[0m\u001b[0;34m)\u001b[0m\u001b[0;34m:\u001b[0m\u001b[0;34m\u001b[0m\u001b[0;34m\u001b[0m\u001b[0m\n\u001b[0;32m---> 44\u001b[0;31m          \u001b[0;32mreturn\u001b[0m \u001b[0mself\u001b[0m\u001b[0;34m.\u001b[0m\u001b[0mmain\u001b[0m\u001b[0;34m(\u001b[0m\u001b[0minput\u001b[0m\u001b[0;34m)\u001b[0m\u001b[0;34m\u001b[0m\u001b[0;34m\u001b[0m\u001b[0m\n\u001b[0m\u001b[1;32m     45\u001b[0m \u001b[0;34m\u001b[0m\u001b[0m\n\u001b[1;32m     46\u001b[0m \u001b[0;32mdef\u001b[0m \u001b[0mmake_train_step\u001b[0m\u001b[0;34m(\u001b[0m\u001b[0mmodel\u001b[0m\u001b[0;34m,\u001b[0m \u001b[0mloss_fn\u001b[0m\u001b[0;34m,\u001b[0m \u001b[0moptimizer\u001b[0m\u001b[0;34m,\u001b[0m \u001b[0mloss_type\u001b[0m\u001b[0;34m)\u001b[0m\u001b[0;34m:\u001b[0m\u001b[0;34m\u001b[0m\u001b[0;34m\u001b[0m\u001b[0m\n",
      "\u001b[0;32m/opt/conda/lib/python3.6/site-packages/torch/nn/modules/module.py\u001b[0m in \u001b[0;36m__call__\u001b[0;34m(self, *input, **kwargs)\u001b[0m\n\u001b[1;32m    575\u001b[0m             \u001b[0mresult\u001b[0m \u001b[0;34m=\u001b[0m \u001b[0mself\u001b[0m\u001b[0;34m.\u001b[0m\u001b[0m_slow_forward\u001b[0m\u001b[0;34m(\u001b[0m\u001b[0;34m*\u001b[0m\u001b[0minput\u001b[0m\u001b[0;34m,\u001b[0m \u001b[0;34m**\u001b[0m\u001b[0mkwargs\u001b[0m\u001b[0;34m)\u001b[0m\u001b[0;34m\u001b[0m\u001b[0;34m\u001b[0m\u001b[0m\n\u001b[1;32m    576\u001b[0m         \u001b[0;32melse\u001b[0m\u001b[0;34m:\u001b[0m\u001b[0;34m\u001b[0m\u001b[0;34m\u001b[0m\u001b[0m\n\u001b[0;32m--> 577\u001b[0;31m             \u001b[0mresult\u001b[0m \u001b[0;34m=\u001b[0m \u001b[0mself\u001b[0m\u001b[0;34m.\u001b[0m\u001b[0mforward\u001b[0m\u001b[0;34m(\u001b[0m\u001b[0;34m*\u001b[0m\u001b[0minput\u001b[0m\u001b[0;34m,\u001b[0m \u001b[0;34m**\u001b[0m\u001b[0mkwargs\u001b[0m\u001b[0;34m)\u001b[0m\u001b[0;34m\u001b[0m\u001b[0;34m\u001b[0m\u001b[0m\n\u001b[0m\u001b[1;32m    578\u001b[0m         \u001b[0;32mfor\u001b[0m \u001b[0mhook\u001b[0m \u001b[0;32min\u001b[0m \u001b[0mself\u001b[0m\u001b[0;34m.\u001b[0m\u001b[0m_forward_hooks\u001b[0m\u001b[0;34m.\u001b[0m\u001b[0mvalues\u001b[0m\u001b[0;34m(\u001b[0m\u001b[0;34m)\u001b[0m\u001b[0;34m:\u001b[0m\u001b[0;34m\u001b[0m\u001b[0;34m\u001b[0m\u001b[0m\n\u001b[1;32m    579\u001b[0m             \u001b[0mhook_result\u001b[0m \u001b[0;34m=\u001b[0m \u001b[0mhook\u001b[0m\u001b[0;34m(\u001b[0m\u001b[0mself\u001b[0m\u001b[0;34m,\u001b[0m \u001b[0minput\u001b[0m\u001b[0;34m,\u001b[0m \u001b[0mresult\u001b[0m\u001b[0;34m)\u001b[0m\u001b[0;34m\u001b[0m\u001b[0;34m\u001b[0m\u001b[0m\n",
      "\u001b[0;32m/opt/conda/lib/python3.6/site-packages/torch/nn/modules/container.py\u001b[0m in \u001b[0;36mforward\u001b[0;34m(self, input)\u001b[0m\n\u001b[1;32m     98\u001b[0m     \u001b[0;32mdef\u001b[0m \u001b[0mforward\u001b[0m\u001b[0;34m(\u001b[0m\u001b[0mself\u001b[0m\u001b[0;34m,\u001b[0m \u001b[0minput\u001b[0m\u001b[0;34m)\u001b[0m\u001b[0;34m:\u001b[0m\u001b[0;34m\u001b[0m\u001b[0;34m\u001b[0m\u001b[0m\n\u001b[1;32m     99\u001b[0m         \u001b[0;32mfor\u001b[0m \u001b[0mmodule\u001b[0m \u001b[0;32min\u001b[0m \u001b[0mself\u001b[0m\u001b[0;34m:\u001b[0m\u001b[0;34m\u001b[0m\u001b[0;34m\u001b[0m\u001b[0m\n\u001b[0;32m--> 100\u001b[0;31m             \u001b[0minput\u001b[0m \u001b[0;34m=\u001b[0m \u001b[0mmodule\u001b[0m\u001b[0;34m(\u001b[0m\u001b[0minput\u001b[0m\u001b[0;34m)\u001b[0m\u001b[0;34m\u001b[0m\u001b[0;34m\u001b[0m\u001b[0m\n\u001b[0m\u001b[1;32m    101\u001b[0m         \u001b[0;32mreturn\u001b[0m \u001b[0minput\u001b[0m\u001b[0;34m\u001b[0m\u001b[0;34m\u001b[0m\u001b[0m\n\u001b[1;32m    102\u001b[0m \u001b[0;34m\u001b[0m\u001b[0m\n",
      "\u001b[0;32m/opt/conda/lib/python3.6/site-packages/torch/nn/modules/module.py\u001b[0m in \u001b[0;36m__call__\u001b[0;34m(self, *input, **kwargs)\u001b[0m\n\u001b[1;32m    575\u001b[0m             \u001b[0mresult\u001b[0m \u001b[0;34m=\u001b[0m \u001b[0mself\u001b[0m\u001b[0;34m.\u001b[0m\u001b[0m_slow_forward\u001b[0m\u001b[0;34m(\u001b[0m\u001b[0;34m*\u001b[0m\u001b[0minput\u001b[0m\u001b[0;34m,\u001b[0m \u001b[0;34m**\u001b[0m\u001b[0mkwargs\u001b[0m\u001b[0;34m)\u001b[0m\u001b[0;34m\u001b[0m\u001b[0;34m\u001b[0m\u001b[0m\n\u001b[1;32m    576\u001b[0m         \u001b[0;32melse\u001b[0m\u001b[0;34m:\u001b[0m\u001b[0;34m\u001b[0m\u001b[0;34m\u001b[0m\u001b[0m\n\u001b[0;32m--> 577\u001b[0;31m             \u001b[0mresult\u001b[0m \u001b[0;34m=\u001b[0m \u001b[0mself\u001b[0m\u001b[0;34m.\u001b[0m\u001b[0mforward\u001b[0m\u001b[0;34m(\u001b[0m\u001b[0;34m*\u001b[0m\u001b[0minput\u001b[0m\u001b[0;34m,\u001b[0m \u001b[0;34m**\u001b[0m\u001b[0mkwargs\u001b[0m\u001b[0;34m)\u001b[0m\u001b[0;34m\u001b[0m\u001b[0;34m\u001b[0m\u001b[0m\n\u001b[0m\u001b[1;32m    578\u001b[0m         \u001b[0;32mfor\u001b[0m \u001b[0mhook\u001b[0m \u001b[0;32min\u001b[0m \u001b[0mself\u001b[0m\u001b[0;34m.\u001b[0m\u001b[0m_forward_hooks\u001b[0m\u001b[0;34m.\u001b[0m\u001b[0mvalues\u001b[0m\u001b[0;34m(\u001b[0m\u001b[0;34m)\u001b[0m\u001b[0;34m:\u001b[0m\u001b[0;34m\u001b[0m\u001b[0;34m\u001b[0m\u001b[0m\n\u001b[1;32m    579\u001b[0m             \u001b[0mhook_result\u001b[0m \u001b[0;34m=\u001b[0m \u001b[0mhook\u001b[0m\u001b[0;34m(\u001b[0m\u001b[0mself\u001b[0m\u001b[0;34m,\u001b[0m \u001b[0minput\u001b[0m\u001b[0;34m,\u001b[0m \u001b[0mresult\u001b[0m\u001b[0;34m)\u001b[0m\u001b[0;34m\u001b[0m\u001b[0;34m\u001b[0m\u001b[0m\n",
      "\u001b[0;32m/opt/conda/lib/python3.6/site-packages/torch/nn/modules/batchnorm.py\u001b[0m in \u001b[0;36mforward\u001b[0;34m(self, input)\u001b[0m\n\u001b[1;32m    104\u001b[0m             \u001b[0minput\u001b[0m\u001b[0;34m,\u001b[0m \u001b[0mself\u001b[0m\u001b[0;34m.\u001b[0m\u001b[0mrunning_mean\u001b[0m\u001b[0;34m,\u001b[0m \u001b[0mself\u001b[0m\u001b[0;34m.\u001b[0m\u001b[0mrunning_var\u001b[0m\u001b[0;34m,\u001b[0m \u001b[0mself\u001b[0m\u001b[0;34m.\u001b[0m\u001b[0mweight\u001b[0m\u001b[0;34m,\u001b[0m \u001b[0mself\u001b[0m\u001b[0;34m.\u001b[0m\u001b[0mbias\u001b[0m\u001b[0;34m,\u001b[0m\u001b[0;34m\u001b[0m\u001b[0;34m\u001b[0m\u001b[0m\n\u001b[1;32m    105\u001b[0m             \u001b[0mself\u001b[0m\u001b[0;34m.\u001b[0m\u001b[0mtraining\u001b[0m \u001b[0;32mor\u001b[0m \u001b[0;32mnot\u001b[0m \u001b[0mself\u001b[0m\u001b[0;34m.\u001b[0m\u001b[0mtrack_running_stats\u001b[0m\u001b[0;34m,\u001b[0m\u001b[0;34m\u001b[0m\u001b[0;34m\u001b[0m\u001b[0m\n\u001b[0;32m--> 106\u001b[0;31m             exponential_average_factor, self.eps)\n\u001b[0m\u001b[1;32m    107\u001b[0m \u001b[0;34m\u001b[0m\u001b[0m\n\u001b[1;32m    108\u001b[0m \u001b[0;34m\u001b[0m\u001b[0m\n",
      "\u001b[0;32m/opt/conda/lib/python3.6/site-packages/torch/nn/functional.py\u001b[0m in \u001b[0;36mbatch_norm\u001b[0;34m(input, running_mean, running_var, weight, bias, training, momentum, eps)\u001b[0m\n\u001b[1;32m   2014\u001b[0m     return torch.batch_norm(\n\u001b[1;32m   2015\u001b[0m         \u001b[0minput\u001b[0m\u001b[0;34m,\u001b[0m \u001b[0mweight\u001b[0m\u001b[0;34m,\u001b[0m \u001b[0mbias\u001b[0m\u001b[0;34m,\u001b[0m \u001b[0mrunning_mean\u001b[0m\u001b[0;34m,\u001b[0m \u001b[0mrunning_var\u001b[0m\u001b[0;34m,\u001b[0m\u001b[0;34m\u001b[0m\u001b[0;34m\u001b[0m\u001b[0m\n\u001b[0;32m-> 2016\u001b[0;31m         \u001b[0mtraining\u001b[0m\u001b[0;34m,\u001b[0m \u001b[0mmomentum\u001b[0m\u001b[0;34m,\u001b[0m \u001b[0meps\u001b[0m\u001b[0;34m,\u001b[0m \u001b[0mtorch\u001b[0m\u001b[0;34m.\u001b[0m\u001b[0mbackends\u001b[0m\u001b[0;34m.\u001b[0m\u001b[0mcudnn\u001b[0m\u001b[0;34m.\u001b[0m\u001b[0menabled\u001b[0m\u001b[0;34m\u001b[0m\u001b[0;34m\u001b[0m\u001b[0m\n\u001b[0m\u001b[1;32m   2017\u001b[0m     )\n\u001b[1;32m   2018\u001b[0m \u001b[0;34m\u001b[0m\u001b[0m\n",
      "\u001b[0;31mRuntimeError\u001b[0m: running_mean should contain 1 elements not 100"
     ]
    }
   ],
   "source": [
    "# script launcher\n",
    "# here we initialize all arguments epoch size, K-fold, batch number, seeds, and so on\n",
    "\n",
    "if __name__ == '__main__':\n",
    "    parser = argparse.ArgumentParser()\n",
    "    \n",
    "    parser.add_argument('--epochs', default = 1000, type = int,\n",
    "                        help='Number of epochs for training')\n",
    "    parser.add_argument('--stopping_criterion', default=20, type = int,\n",
    "                        help='N iterations of non-improving validation score until early stopping')\n",
    "    parser.add_argument('--batch_size', default = 256, type = int,\n",
    "                        help='Batch size used for training')\n",
    "    parser.add_argument('--device', type = str, default=(\"cpu\" if not torch.cuda.is_available() else \"cuda\"),\n",
    "                        help=\"Device: CPU or GPU on which training is conducted\")\n",
    "    parser.add_argument('--seed', default = 17, type=int,\n",
    "                        help='Seed to reproduce the results')\n",
    "    parser.add_argument('--n_splits', default = 3, type = int,\n",
    "                        help = 'Number of pars for training in K-Fold cross-validations')\n",
    "    parser.add_argument('--parts', type = list, default = np.arange(1,11),\n",
    "                        help = 'Parts which we want consider. By default: all 10 parts of partition. See \"n_splits\"')\n",
    "\n",
    "    args = parser.parse_args(\"\")\n",
    "\n",
    "    main(args)"
   ]
  },
  {
   "cell_type": "markdown",
   "metadata": {},
   "source": [
    "# THE PROJECT ENDS HERE, IGNORE ANYTHING BELOW..."
   ]
  },
  {
   "cell_type": "code",
   "execution_count": null,
   "metadata": {},
   "outputs": [],
   "source": [
    "%ls"
   ]
  },
  {
   "cell_type": "code",
   "execution_count": null,
   "metadata": {},
   "outputs": [],
   "source": [
    "model_test = torch.load('./Results/Part_Number_1/Part_Number_1_lr_0.0001_layer_size_600/Part_Number_1_model_lr_0.0001_layer_size_600.pt')"
   ]
  },
  {
   "cell_type": "code",
   "execution_count": null,
   "metadata": {},
   "outputs": [],
   "source": [
    "model = NeuralNetwork(100).to(device)"
   ]
  },
  {
   "cell_type": "code",
   "execution_count": null,
   "metadata": {},
   "outputs": [],
   "source": [
    "!mkdir Data_40k"
   ]
  },
  {
   "cell_type": "code",
   "execution_count": null,
   "metadata": {},
   "outputs": [],
   "source": [
    "%ls"
   ]
  },
  {
   "cell_type": "code",
   "execution_count": null,
   "metadata": {},
   "outputs": [],
   "source": [
    "%cd Data_40k/"
   ]
  },
  {
   "cell_type": "code",
   "execution_count": null,
   "metadata": {},
   "outputs": [],
   "source": [
    "pip install gdown"
   ]
  },
  {
   "cell_type": "code",
   "execution_count": null,
   "metadata": {},
   "outputs": [],
   "source": [
    "!gdown https://drive.google.com/uc?id=1ORiVwT3DjPOXzVe-qOwdYz03ygmWjj58"
   ]
  },
  {
   "cell_type": "code",
   "execution_count": null,
   "metadata": {},
   "outputs": [],
   "source": [
    "!rm -rf ./Results/"
   ]
  },
  {
   "cell_type": "code",
   "execution_count": null,
   "metadata": {},
   "outputs": [],
   "source": [
    "%ls"
   ]
  },
  {
   "cell_type": "code",
   "execution_count": null,
   "metadata": {},
   "outputs": [],
   "source": [
    "!mkdir Data_100_500nm"
   ]
  },
  {
   "cell_type": "code",
   "execution_count": null,
   "metadata": {},
   "outputs": [],
   "source": [
    "%cd Data_100_500nm/"
   ]
  },
  {
   "cell_type": "code",
   "execution_count": null,
   "metadata": {},
   "outputs": [],
   "source": [
    "!unzip ger_core_100-500nm.zip"
   ]
  },
  {
   "cell_type": "code",
   "execution_count": null,
   "metadata": {},
   "outputs": [],
   "source": [
    "!rm -rf ./Results/"
   ]
  },
  {
   "cell_type": "code",
   "execution_count": null,
   "metadata": {},
   "outputs": [],
   "source": [
    "%ls"
   ]
  },
  {
   "cell_type": "code",
   "execution_count": null,
   "metadata": {},
   "outputs": [],
   "source": [
    "%cd Element_based_data/fixed/"
   ]
  },
  {
   "cell_type": "code",
   "execution_count": null,
   "metadata": {},
   "outputs": [],
   "source": [
    "%ls"
   ]
  },
  {
   "cell_type": "code",
   "execution_count": null,
   "metadata": {},
   "outputs": [],
   "source": [
    "%cd atakan_data_2000_500/"
   ]
  },
  {
   "cell_type": "code",
   "execution_count": null,
   "metadata": {},
   "outputs": [],
   "source": [
    "!mkdir atakan_data_2000_500"
   ]
  },
  {
   "cell_type": "code",
   "execution_count": null,
   "metadata": {},
   "outputs": [],
   "source": [
    "!unzip atakan_test_1.zip"
   ]
  },
  {
   "cell_type": "code",
   "execution_count": null,
   "metadata": {},
   "outputs": [],
   "source": [
    "!gdown https://drive.google.com/uc?id=13jQkoVsfIyLv2auQkQysx81Y8uS4U68M"
   ]
  },
  {
   "cell_type": "code",
   "execution_count": null,
   "metadata": {},
   "outputs": [],
   "source": [
    "!pip install gdown"
   ]
  },
  {
   "cell_type": "code",
   "execution_count": null,
   "metadata": {},
   "outputs": [],
   "source": []
  }
 ],
 "metadata": {
  "kernelspec": {
   "display_name": "Python 3",
   "language": "python",
   "name": "python3"
  },
  "language_info": {
   "codemirror_mode": {
    "name": "ipython",
    "version": 3
   },
   "file_extension": ".py",
   "mimetype": "text/x-python",
   "name": "python",
   "nbconvert_exporter": "python",
   "pygments_lexer": "ipython3",
   "version": "3.6.10"
  }
 },
 "nbformat": 4,
 "nbformat_minor": 4
}
